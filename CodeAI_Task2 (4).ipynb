{
  "nbformat": 4,
  "nbformat_minor": 0,
  "metadata": {
    "colab": {
      "provenance": [],
      "toc_visible": true
    },
    "kernelspec": {
      "name": "python3",
      "display_name": "Python 3"
    },
    "language_info": {
      "name": "python"
    }
  },
  "cells": [
    {
      "cell_type": "code",
      "execution_count": 1,
      "metadata": {
        "id": "uArp_B-_EBXU"
      },
      "outputs": [],
      "source": [
        "import numpy as np\n",
        "import pandas as pd\n",
        "import matplotlib.pyplot as plt\n",
        "import seaborn as sns\n",
        "import geopandas\n",
        "import folium\n"
      ]
    },
    {
      "cell_type": "code",
      "source": [
        "df=pd.read_excel('/content/Meteorite Landing.xlsx')\n",
        "print(df.head())"
      ],
      "metadata": {
        "colab": {
          "base_uri": "https://localhost:8080/"
        },
        "id": "pSUDG_gYEbhn",
        "outputId": "f2ae734a-e125-4fb4-8624-7a219dc25899"
      },
      "execution_count": 2,
      "outputs": [
        {
          "output_type": "stream",
          "name": "stdout",
          "text": [
            "       Name   ID NameType Classification                       Mass  Fall  \\\n",
            "0    Aachen    1    Valid             L5      Quantity[21, \"Grams\"]  Fell   \n",
            "1    Aarhus    2    Valid             H6     Quantity[720, \"Grams\"]  Fell   \n",
            "2      Abee    6    Valid            EH4  Quantity[107000, \"Grams\"]  Fell   \n",
            "3  Acapulco   10    Valid    Acapulcoite    Quantity[1914, \"Grams\"]  Fell   \n",
            "4   Achiras  370    Valid             L6     Quantity[780, \"Grams\"]  Fell   \n",
            "\n",
            "                                           Year  \\\n",
            "0  DateObject[{1880}, \"Year\", \"Gregorian\", -5.]   \n",
            "1  DateObject[{1951}, \"Year\", \"Gregorian\", -5.]   \n",
            "2  DateObject[{1952}, \"Year\", \"Gregorian\", -5.]   \n",
            "3  DateObject[{1976}, \"Year\", \"Gregorian\", -5.]   \n",
            "4  DateObject[{1902}, \"Year\", \"Gregorian\", -5.]   \n",
            "\n",
            "                         Coordinates  \n",
            "0     GeoPosition[{50.775, 6.08333}]  \n",
            "1  GeoPosition[{56.18333, 10.23333}]  \n",
            "2     GeoPosition[{54.21667, -113.}]  \n",
            "3     GeoPosition[{16.88333, -99.9}]  \n",
            "4   GeoPosition[{-33.16667, -64.95}]  \n"
          ]
        }
      ]
    },
    {
      "cell_type": "markdown",
      "source": [],
      "metadata": {
        "id": "2eiEDN4g9Dqr"
      }
    },
    {
      "cell_type": "code",
      "source": [
        "print(df.info())"
      ],
      "metadata": {
        "colab": {
          "base_uri": "https://localhost:8080/"
        },
        "id": "ErLjQFSFE739",
        "outputId": "be45a99f-301a-4543-8153-12c53d2c522b"
      },
      "execution_count": 3,
      "outputs": [
        {
          "output_type": "stream",
          "name": "stdout",
          "text": [
            "<class 'pandas.core.frame.DataFrame'>\n",
            "RangeIndex: 45716 entries, 0 to 45715\n",
            "Data columns (total 8 columns):\n",
            " #   Column          Non-Null Count  Dtype \n",
            "---  ------          --------------  ----- \n",
            " 0   Name            45716 non-null  object\n",
            " 1   ID              45716 non-null  int64 \n",
            " 2   NameType        45716 non-null  object\n",
            " 3   Classification  45716 non-null  object\n",
            " 4   Mass            45716 non-null  object\n",
            " 5   Fall            45716 non-null  object\n",
            " 6   Year            45716 non-null  object\n",
            " 7   Coordinates     45716 non-null  object\n",
            "dtypes: int64(1), object(7)\n",
            "memory usage: 2.8+ MB\n",
            "None\n"
          ]
        }
      ]
    },
    {
      "cell_type": "markdown",
      "source": [
        "Data cleaning"
      ],
      "metadata": {
        "id": "k68v-GzaLYnj"
      }
    },
    {
      "cell_type": "code",
      "source": [
        "df.replace('Missing[\\\"NotAvailable\\\"]', np.nan, inplace=True)\n",
        "df['Mass_g'] = (df['Mass'].str.replace('Quantity[', '', regex=False).str.replace(', \"Grams\"]', '', regex=False))\n",
        "df['Mass_g'] = pd.to_numeric(df['Mass_g'], errors='coerce')\n",
        "\n",
        "\n",
        "df['Mass_kg']=df['Mass_g']/1000\n",
        "df.drop(['Mass'], axis=1, inplace=True)"
      ],
      "metadata": {
        "id": "b3370NLRFjWK"
      },
      "execution_count": 4,
      "outputs": []
    },
    {
      "cell_type": "code",
      "source": [
        "df['coords'] = (df['Coordinates'].str.replace('GeoPosition[{', '', regex=False).str.replace('}]', '', regex=False))\n",
        "df.loc[df['Coordinates'].isna(), 'coords'] = np.nan\n",
        "split_coords = df['coords'].str.split(',', expand=True)\n",
        "\n",
        "\n",
        "df['Latitude'] = split_coords[0]\n",
        "df['Longitude'] = split_coords[1]\n",
        "df['Latitude'] = pd.to_numeric(df['Latitude'], errors='coerce')\n",
        "df['Longitude'] = pd.to_numeric(df['Longitude'], errors='coerce')\n",
        "\n",
        "df.drop(['coords'], axis=1, inplace=True)"
      ],
      "metadata": {
        "id": "grr1C6z2GsQp"
      },
      "execution_count": 5,
      "outputs": []
    },
    {
      "cell_type": "code",
      "source": [
        "df['Year_cleaned'] = (df['Year'].str.replace('DateObject[{', '', regex=False).str.replace('}, \"Year\", \"Gregorian\", -5.]', '', regex=False))\n",
        "df['Year_cleaned'] = pd.to_numeric(df['Year_cleaned'], errors='coerce')\n"
      ],
      "metadata": {
        "id": "n70MUuIIJs0x"
      },
      "execution_count": 6,
      "outputs": []
    },
    {
      "cell_type": "markdown",
      "source": [
        "TOP 10 HEAVIEST METEORITES"
      ],
      "metadata": {
        "id": "9zDkyMmcMPP5"
      }
    },
    {
      "cell_type": "code",
      "source": [
        "top_10 = df[['Name','Mass_g']].sort_values(by='Mass_g', ascending=False).head(10)\n",
        "print(top_10)"
      ],
      "metadata": {
        "colab": {
          "base_uri": "https://localhost:8080/"
        },
        "id": "kTyFw3vYMWJO",
        "outputId": "ac8a6454-864e-499c-a4c3-bc235aaba555"
      },
      "execution_count": 7,
      "outputs": [
        {
          "output_type": "stream",
          "name": "stdout",
          "text": [
            "                        Name      Mass_g\n",
            "16392                   Hope  60000000.0\n",
            "5373            Catalina 011  58200000.0\n",
            "5365            Catalina 003  50000000.0\n",
            "5370            Catalina 008  30000000.0\n",
            "3455              Asuka 8602  28000000.0\n",
            "12613      Glorieta Mountain  26000000.0\n",
            "5468        Colorado Springs  24300000.0\n",
            "26297        Mundrabilla 005  24000000.0\n",
            "920                    Sinai  23000000.0\n",
            "5016   Bates Nunataks A78005  22000000.0\n"
          ]
        }
      ]
    },
    {
      "cell_type": "markdown",
      "source": [
        "Grouping fall vs found"
      ],
      "metadata": {
        "id": "ffnLHF86lp4E"
      }
    },
    {
      "cell_type": "code",
      "source": [
        "fall_count=df.groupby('Fall').size()\n",
        "print(fall_count)"
      ],
      "metadata": {
        "colab": {
          "base_uri": "https://localhost:8080/"
        },
        "id": "5r0oLBpSlvlI",
        "outputId": "29d3dc42-c37a-4513-8a41-0abe6652d90b"
      },
      "execution_count": 8,
      "outputs": [
        {
          "output_type": "stream",
          "name": "stdout",
          "text": [
            "Fall\n",
            "Fell      1107\n",
            "Found    44609\n",
            "dtype: int64\n"
          ]
        }
      ]
    },
    {
      "cell_type": "markdown",
      "source": [
        "Average mass of most common classification"
      ],
      "metadata": {
        "id": "ZZZzoMQXmtCb"
      }
    },
    {
      "cell_type": "code",
      "source": [
        "avg_mass = df.groupby('Classification')['Mass_g'].mean()\n",
        "print(avg_mass)"
      ],
      "metadata": {
        "colab": {
          "base_uri": "https://localhost:8080/"
        },
        "id": "vy_MA8_2mx33",
        "outputId": "ed5f48d0-3847-44d6-afb2-f790c587ec39"
      },
      "execution_count": 9,
      "outputs": [
        {
          "output_type": "stream",
          "name": "stdout",
          "text": [
            "Classification\n",
            "Acapulcoite               490.424407\n",
            "Acapulcoite/Lodranite      31.793333\n",
            "Acapulcoite/lodranite      44.933333\n",
            "Achondrite-prim          1078.000000\n",
            "Achondrite-ung            895.845614\n",
            "                            ...     \n",
            "Unknown                          NaN\n",
            "Ureilite                  490.014900\n",
            "Ureilite-an              1287.125000\n",
            "Ureilite-pmict            262.685652\n",
            "Winonaite                1129.013200\n",
            "Name: Mass_g, Length: 466, dtype: float64\n"
          ]
        }
      ]
    },
    {
      "cell_type": "markdown",
      "source": [
        "classifying decade"
      ],
      "metadata": {
        "id": "NrwIh29OUTDO"
      }
    },
    {
      "cell_type": "code",
      "source": [
        "df['Decade']=(df['Year_cleaned']//10)*10\n",
        "\n",
        "print(f'There are {df['Decade'].nunique()} decades of data')\n",
        "print('Number of meteors per decade fallen in this data : ')\n",
        "meteors_per_decade=df.groupby('Decade').size()\n",
        "print(meteors_per_decade)\n",
        "\n",
        "\n"
      ],
      "metadata": {
        "colab": {
          "base_uri": "https://localhost:8080/"
        },
        "id": "bF96l2pDUUtm",
        "outputId": "f53dc991-8c75-4bfe-f656-95b6c5dfe2b2"
      },
      "execution_count": 10,
      "outputs": [
        {
          "output_type": "stream",
          "name": "stdout",
          "text": [
            "There are 46 decades of data\n",
            "Number of meteors per decade fallen in this data : \n",
            "Decade\n",
            "860.0         1\n",
            "920.0         1\n",
            "1390.0        1\n",
            "1490.0        3\n",
            "1510.0        1\n",
            "1570.0        1\n",
            "1580.0        1\n",
            "1600.0        1\n",
            "1620.0        3\n",
            "1630.0        3\n",
            "1640.0        1\n",
            "1650.0        1\n",
            "1660.0        2\n",
            "1670.0        1\n",
            "1680.0        1\n",
            "1700.0        1\n",
            "1710.0        2\n",
            "1720.0        2\n",
            "1740.0        3\n",
            "1750.0        4\n",
            "1760.0        4\n",
            "1770.0        5\n",
            "1780.0        5\n",
            "1790.0       12\n",
            "1800.0       22\n",
            "1810.0       30\n",
            "1820.0       30\n",
            "1830.0       33\n",
            "1840.0       49\n",
            "1850.0       71\n",
            "1860.0       95\n",
            "1870.0       89\n",
            "1880.0      123\n",
            "1890.0      126\n",
            "1900.0      139\n",
            "1910.0      154\n",
            "1920.0      159\n",
            "1930.0      309\n",
            "1940.0      196\n",
            "1950.0      212\n",
            "1960.0      397\n",
            "1970.0     4969\n",
            "1980.0     6822\n",
            "1990.0    11619\n",
            "2000.0    17757\n",
            "2010.0     1963\n",
            "dtype: int64\n"
          ]
        }
      ]
    },
    {
      "cell_type": "code",
      "source": [
        "print('Average mass of meteor per decade in kg: ')\n",
        "avg_mass_per_decade=df.groupby('Decade')['Mass_kg'].mean()\n",
        "print(avg_mass_per_decade)"
      ],
      "metadata": {
        "colab": {
          "base_uri": "https://localhost:8080/"
        },
        "id": "BbvjIgkfWMTW",
        "outputId": "88260f34-a27f-4c63-8077-2b18291cc80f"
      },
      "execution_count": 11,
      "outputs": [
        {
          "output_type": "stream",
          "name": "stdout",
          "text": [
            "Average mass of meteor per decade in kg: \n",
            "Decade\n",
            "860.0         0.472000\n",
            "920.0              NaN\n",
            "1390.0      107.000000\n",
            "1490.0       63.551650\n",
            "1510.0             NaN\n",
            "1570.0    50000.000000\n",
            "1580.0       15.000000\n",
            "1600.0    10100.000000\n",
            "1620.0       13.789000\n",
            "1630.0        9.020000\n",
            "1640.0             NaN\n",
            "1650.0             NaN\n",
            "1660.0        0.040000\n",
            "1670.0        4.500000\n",
            "1680.0        0.695000\n",
            "1700.0             NaN\n",
            "1710.0        4.350000\n",
            "1720.0       49.019500\n",
            "1740.0      246.353333\n",
            "1750.0       23.513333\n",
            "1760.0        8.166667\n",
            "1770.0     1002.300000\n",
            "1780.0     1104.681000\n",
            "1790.0      153.652318\n",
            "1800.0      191.493136\n",
            "1810.0     2008.491023\n",
            "1820.0       76.405321\n",
            "1830.0      892.721303\n",
            "1840.0       25.804734\n",
            "1850.0      504.516168\n",
            "1860.0      349.599421\n",
            "1870.0      123.179764\n",
            "1880.0      109.125048\n",
            "1890.0      498.747294\n",
            "1900.0      173.734150\n",
            "1910.0      199.501329\n",
            "1920.0      460.037579\n",
            "1930.0       88.293101\n",
            "1940.0      155.834681\n",
            "1950.0       88.580171\n",
            "1960.0       39.231117\n",
            "1970.0        2.602111\n",
            "1980.0        1.239359\n",
            "1990.0        0.979847\n",
            "2000.0        1.516474\n",
            "2010.0        0.884693\n",
            "Name: Mass_kg, dtype: float64\n"
          ]
        }
      ]
    },
    {
      "cell_type": "markdown",
      "source": [
        "Numpy operations"
      ],
      "metadata": {
        "id": "SbM2nX5dXqO_"
      }
    },
    {
      "cell_type": "code",
      "source": [
        "\n",
        "\n",
        "mean_mass= np.nanmean(df['Mass_kg'])\n",
        "print(f'Mean mass of meteors is {mean_mass} kg')\n",
        "\n",
        "\n",
        "mean_mass_falling= np.nanmean(df[df['Fall']=='Fell']['Mass_kg'])\n",
        "print(f'Mean mass of metoers falling on earth is {mean_mass_falling} kg')\n",
        "print('')\n",
        "median_mass = np.nanmedian(df['Mass_kg'])\n",
        "print(f'Median mass of all meteors is {median_mass} kg')\n",
        "\n",
        "\n",
        "median_mass_falling = np.nanmedian(df[df['Fall']=='Fell']['Mass_kg'])\n",
        "print(f'Median mass of meteors falling on earth is {median_mass_falling} kg')\n",
        "\n",
        "print('')\n",
        "\n",
        "heaviest = np.nanmax(df['Mass_kg'])\n",
        "print(f'The heaviest meteor is {heaviest} kg')\n",
        "\n",
        "print('')\n",
        "\n",
        "std=np.std(df['Mass_kg'])\n",
        "print(f'Standard deviation of mass of all meteors is {std} kg')\n",
        "\n",
        "\n",
        "print('')\n",
        "\n",
        "\n",
        "sum_meteor = np.sum(df['Mass_kg'])\n",
        "print(f'Sum of all mass of all meteors is {sum_meteor} kg')"
      ],
      "metadata": {
        "colab": {
          "base_uri": "https://localhost:8080/"
        },
        "id": "YZV38WLaXsBQ",
        "outputId": "de0f3d56-5e6b-45e8-cc7c-528a20895e71"
      },
      "execution_count": 12,
      "outputs": [
        {
          "output_type": "stream",
          "name": "stdout",
          "text": [
            "Mean mass of meteors is 13.278078548601515 kg\n",
            "Mean mass of metoers falling on earth is 47.070715023255815 kg\n",
            "\n",
            "Median mass of all meteors is 0.032600000000000004 kg\n",
            "Median mass of meteors falling on earth is 2.8 kg\n",
            "\n",
            "The heaviest meteor is 60000.0 kg\n",
            "\n",
            "Standard deviation of mass of all meteors is 574.9825695986993 kg\n",
            "\n",
            "Sum of all mass of all meteors is 605281.210638 kg\n"
          ]
        }
      ]
    },
    {
      "cell_type": "markdown",
      "source": [
        "The average looks much higher, about 13 kilograms, but that’s misleading,Most of the meteorites you found are tiny — around 32 grams each,The standard deviation confirms that the weights differ by a huge number"
      ],
      "metadata": {
        "id": "hlkO1NV7Mi1y"
      }
    },
    {
      "cell_type": "markdown",
      "source": [
        "visual representation"
      ],
      "metadata": {
        "id": "ir9c1Mym9FEE"
      }
    },
    {
      "cell_type": "markdown",
      "source": [
        "meteors found per decade"
      ],
      "metadata": {
        "id": "EVu7IDhXAlPe"
      }
    },
    {
      "cell_type": "code",
      "source": [
        "plt.plot(meteors_per_decade.index, meteors_per_decade.values)\n",
        "plt.xlabel('Decade')\n",
        "plt.ylabel('Number of meteors')\n",
        "plt.title('Number of meteors found per decade')\n",
        "plt.show()"
      ],
      "metadata": {
        "colab": {
          "base_uri": "https://localhost:8080/",
          "height": 472
        },
        "id": "qvezN5n-ArZQ",
        "outputId": "ffc0b0dc-dcc3-40f7-cf76-95ec7f361502"
      },
      "execution_count": 13,
      "outputs": [
        {
          "output_type": "display_data",
          "data": {
            "text/plain": [
              "<Figure size 640x480 with 1 Axes>"
            ],
            "image/png": "[encoded data removed]"
          },
          "metadata": {}
        }
      ]
    },
    {
      "cell_type": "markdown",
      "source": [
        "meteors fallen vs found"
      ],
      "metadata": {
        "id": "sR2S2n2-Bmiw"
      }
    },
    {
      "cell_type": "code",
      "source": [
        "plt.pie(fall_count, labels=fall_count.index, autopct='%1.1f%%')\n",
        "plt.title('Distribution of meteors fallen vs found')\n",
        "plt.show()"
      ],
      "metadata": {
        "colab": {
          "base_uri": "https://localhost:8080/",
          "height": 428
        },
        "id": "GR2bV2QSBqQr",
        "outputId": "0b77845c-1ee5-40ba-f69c-e929f9956dea"
      },
      "execution_count": 14,
      "outputs": [
        {
          "output_type": "display_data",
          "data": {
            "text/plain": [
              "<Figure size 640x480 with 1 Axes>"
            ],
            "image/png": "[encoded data removed]"
          },
          "metadata": {}
        }
      ]
    },
    {
      "cell_type": "markdown",
      "source": [
        "Mass distribution of asteroids"
      ],
      "metadata": {
        "id": "g6StuPxPB3SR"
      }
    },
    {
      "cell_type": "code",
      "source": [
        "mass_data=df['Mass_kg'].dropna()\n",
        "plt.hist(mass_data, bins=20, edgecolor='black')\n",
        "plt.yscale('log')\n",
        "plt.xlabel('Mass (kg)')\n",
        "plt.ylabel('Frequency')\n",
        "plt.title('Distribution of meteor mass')\n",
        "plt.show()\n"
      ],
      "metadata": {
        "colab": {
          "base_uri": "https://localhost:8080/",
          "height": 472
        },
        "id": "TCwLqtDxCKlE",
        "outputId": "eeb402fd-1e14-4538-e868-151069b65aa5"
      },
      "execution_count": 15,
      "outputs": [
        {
          "output_type": "display_data",
          "data": {
            "text/plain": [
              "<Figure size 640x480 with 1 Axes>"
            ],
            "image/png": "[encoded data removed]"
          },
          "metadata": {}
        }
      ]
    },
    {
      "cell_type": "markdown",
      "source": [
        "top 10 classification"
      ],
      "metadata": {
        "id": "G-3XIKtKDTvL"
      }
    },
    {
      "cell_type": "code",
      "source": [
        "top_10_counts = df['Classification'].value_counts().nlargest(10)\n",
        "plt.bar(top_10_counts.index, top_10_counts.values)\n",
        "plt.xlabel('Classification')\n",
        "plt.ylabel('Frequency')\n",
        "plt.title('Top 10 meteor classification')\n",
        "plt.show()"
      ],
      "metadata": {
        "id": "Yg2Ycy70DVO1",
        "outputId": "1661141d-10da-40cc-b45e-818388d66483",
        "colab": {
          "base_uri": "https://localhost:8080/",
          "height": 472
        }
      },
      "execution_count": 16,
      "outputs": [
        {
          "output_type": "display_data",
          "data": {
            "text/plain": [
              "<Figure size 640x480 with 1 Axes>"
            ],
            "image/png": "[encoded data removed]"
          },
          "metadata": {}
        }
      ]
    },
    {
      "cell_type": "markdown",
      "source": [
        "Final Summary\n",
        "\n",
        "\n",
        "*   The number of finds exploded starting in the 2000s.\n",
        "*  Typical meteor is lightweight but the heavy ones drag the average to the higher side\n",
        "*   Meteors falling are heavier than ones found\n",
        "*   The L6 classification is the most common meteorite type by far in the dataset\n",
        "\n",
        "\n",
        "\n",
        "\n",
        "\n"
      ],
      "metadata": {
        "id": "H1Fi9UCfKtWp"
      }
    },
    {
      "cell_type": "code",
      "source": [],
      "metadata": {
        "id": "l73bgATYK0X8"
      },
      "execution_count": 16,
      "outputs": []
    }
  ]
}